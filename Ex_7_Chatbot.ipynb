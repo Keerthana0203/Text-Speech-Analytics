{
  "nbformat": 4,
  "nbformat_minor": 0,
  "metadata": {
    "colab": {
      "provenance": []
    },
    "kernelspec": {
      "name": "python3",
      "display_name": "Python 3"
    },
    "language_info": {
      "name": "python"
    }
  },
  "cells": [
    {
      "cell_type": "code",
      "execution_count": 4,
      "metadata": {
        "colab": {
          "base_uri": "https://localhost:8080/"
        },
        "id": "qBLXJKAY-cFW",
        "outputId": "b4af556f-a993-41c7-ecd2-7e6833ed4e15"
      },
      "outputs": [
        {
          "output_type": "stream",
          "name": "stdout",
          "text": [
            "Simple Chatbot: Hello! Ask me anything or say goodbye to end the conversation.\n",
            "You: hi\n",
            "Simple Chatbot: Hello! How can I help you today?\n",
            "You: how are you?\n",
            "Simple Chatbot: I am just a computer program, but thanks for asking!\n",
            "You: bye\n",
            "Simple Chatbot: Goodbye! Have a great day.\n"
          ]
        }
      ],
      "source": [
        "import random\n",
        "class SimpleChatbot:\n",
        "  def __init__(self):\n",
        "    self.greetings = ['hello', 'hi', 'hey', 'greetings', 'howdy']\n",
        "    self.goodbyes = ['bye', 'goodbye', 'see you', 'farewell']\n",
        "    self.responses = {\n",
        "    'tell me a joke': 'Why did the chicken cross the road? To get to the other side!',\n",
        "                      'how are you': 'I am just a computer program, but thanks for asking!',\n",
        "    'default': 'I\\'m sorry, I don\\'t understand that. Can you ask me something else?'\n",
        "    }\n",
        "\n",
        "  def get_response(self, user_input):\n",
        "    user_input = user_input.lower()\n",
        "    if any(greeting in user_input for greeting in self.greetings):\n",
        "      return 'Hello! How can I help you today?'\n",
        "    elif any(goodbye in user_input for goodbye in self.goodbyes):\n",
        "      return 'Goodbye! Have a great day.'\n",
        "    else:\n",
        "      for key in self.responses:\n",
        "        if key in user_input:\n",
        "          return self.responses[key]\n",
        "      return self.responses['default']\n",
        "\n",
        "def main():\n",
        "  chatbot = SimpleChatbot()\n",
        "  print(\"Simple Chatbot: Hello! Ask me anything or say goodbye to end the conversation.\")\n",
        "\n",
        "  while True:\n",
        "    user_input = input(\"You: \")\n",
        "    if user_input.lower() in ['bye', 'goodbye', 'exit']:\n",
        "      print(\"Simple Chatbot: Goodbye! Have a great day.\")\n",
        "      break\n",
        "    response = chatbot.get_response(user_input)\n",
        "    print(\"Simple Chatbot:\", response)\n",
        "\n",
        "if __name__ == \"__main__\":\n",
        "      main()"
      ]
    }
  ]
}