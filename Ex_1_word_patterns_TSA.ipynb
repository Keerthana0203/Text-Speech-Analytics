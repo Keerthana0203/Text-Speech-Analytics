{
  "nbformat": 4,
  "nbformat_minor": 0,
  "metadata": {
    "colab": {
      "provenance": []
    },
    "kernelspec": {
      "name": "python3",
      "display_name": "Python 3"
    },
    "language_info": {
      "name": "python"
    }
  },
  "cells": [
    {
      "cell_type": "code",
      "execution_count": null,
      "metadata": {
        "colab": {
          "base_uri": "https://localhost:8080/"
        },
        "id": "Q2VXEPhRrDlF",
        "outputId": "44e1c440-1c51-4a9b-c416-4e0212649218"
      },
      "outputs": [
        {
          "output_type": "stream",
          "name": "stdout",
          "text": [
            "Words: ['Rajalakshmi', 'Institute', 'of', 'Technology', 'was', 'established', 'in', '2008', 'RIT', 'is', 'accredited', 'with', 'highest', 'grade', 'of', 'A', 'by', 'NAAC', 'RIT', 'is', 'affiliated', 'with', 'Anna', 'University', 'Chennai']\n",
            "25\n",
            "Tokens: ['Rajalakshmi', ' ', 'Institute', ' ', 'of', ' ', 'Technology', ' ', 'was', ' ', 'established', ' ', 'in', ' ', '2008', '.', ' ', 'RIT', ' ', 'is', '␣', 'accredited', ' ', 'with', ' ', 'highest', ' ', 'grade', ' ', 'of', ' ', 'A', '+', '+', ' ', 'by', ' ', 'NAAC', '.', ' ', 'RIT', ' ', 'is', ' ', 'affiliated', ' ', 'with', ' ', 'Anna', '␣', 'University', ' ', 'Chennai', '.']\n",
            "54\n"
          ]
        }
      ],
      "source": [
        "import re\n",
        "def detect_word_patterns(text):\n",
        "# Regular expression pattern for detecting words\n",
        "  word_pattern = re.compile(r'\\b\\w+\\b')\n",
        "# Find all matches for the word pattern in the text\n",
        "  words = word_pattern.findall(text)\n",
        "  return words\n",
        "def tokenize_text(text):\n",
        "# Regular expression pattern for tokenizing text\n",
        "  token_pattern = re.compile(r'\\b\\w+\\b|\\s|[^\\w\\s]')\n",
        "# Find all matches for the token pattern in the text\n",
        "  tokens = token_pattern.findall(text)\n",
        "  return tokens\n",
        "def main():\n",
        "# Example text\n",
        "  text = \"Rajalakshmi Institute of Technology was established in 2008. RIT is accredited with highest grade of A++ by NAAC. RIT is affiliated with Anna␣University Chennai.\"\n",
        "# Detect word patterns\n",
        "  words = detect_word_patterns(text)\n",
        "  print(\"Words:\", words)\n",
        "  print(len(words))\n",
        "# Tokenize text\n",
        "  tokens = tokenize_text(text)\n",
        "  print(\"Tokens:\", tokens)\n",
        "  print(len(tokens))\n",
        "if __name__ == \"__main__\":\n",
        "  main()"
      ]
    }
  ]
}